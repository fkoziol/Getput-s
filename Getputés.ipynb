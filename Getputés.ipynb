{
 "cells": [
  {
   "cell_type": "code",
   "execution_count": 1,
   "metadata": {},
   "outputs": [],
   "source": [
    "import requests\n",
    "from selenium import webdriver\n",
    "from webdriver_manager.chrome import ChromeDriverManager\n",
    "from selenium.webdriver.common.keys import Keys\n",
    "from selenium.webdriver import ActionChains\n",
    "import json"
   ]
  },
  {
   "cell_type": "code",
   "execution_count": 2,
   "metadata": {},
   "outputs": [],
   "source": [
    "#Opening a Chrome browser\n",
    "nos_deputes = webdriver.Chrome(r'chromedriver.exe')\n",
    "\n",
    "#Open the sign in page\n",
    "nos_deputes.get('https://www.nosdeputes.fr/dossiers/date')"
   ]
  },
  {
   "cell_type": "code",
   "execution_count": 3,
   "metadata": {},
   "outputs": [],
   "source": [
    "travaux = nos_deputes.find_element_by_class_name('travaux_parlementaires')"
   ]
  },
  {
   "cell_type": "code",
   "execution_count": 4,
   "metadata": {},
   "outputs": [],
   "source": [
    "lst_dossiers = []\n",
    "dossiers = travaux.find_elements_by_tag_name('a')\n",
    "for dossier in dossiers:\n",
    "    href = dossier.get_attribute('href')\n",
    "    if href is not None:\n",
    "        lst_dossiers.append(href)"
   ]
  },
  {
   "cell_type": "code",
   "execution_count": null,
   "metadata": {
    "scrolled": true
   },
   "outputs": [
    {
     "name": "stdout",
     "output_type": "stream",
     "text": [
      "Hommage à la victime de l'attentat de conflans-sainte-honorine\n",
      "Séance en hémicycle du vendredi 16 octobre 2020 à 15h00\n",
      "1\n",
      "Projet de loi de finances pour 2021\n",
      "Séance en hémicycle du lundi 12 octobre 2020 à 16h00\n",
      "Séance en hémicycle du lundi 12 octobre 2020 à 21h30\n",
      "Séance en hémicycle du mardi 13 octobre 2020 à 15h00\n",
      "Séance en hémicycle du mardi 13 octobre 2020 à 21h30\n",
      "Séance en hémicycle du mercredi 14 octobre 2020 à 15h00\n",
      "Séance en hémicycle du mercredi 14 octobre 2020 à 21h30\n",
      "Séance en hémicycle du jeudi 15 octobre 2020 à 9h00\n",
      "Séance en hémicycle du jeudi 15 octobre 2020 à 15h00\n",
      "Séance en hémicycle du jeudi 15 octobre 2020 à 21h30\n",
      "Séance en hémicycle du vendredi 16 octobre 2020 à 9h00\n",
      "Séance en hémicycle du vendredi 16 octobre 2020 à 15h00\n"
     ]
    }
   ],
   "source": [
    "dict_dossier = {}\n",
    "count = 0\n",
    "real_count = 0\n",
    "for dossier in lst_dossiers:\n",
    "    nos_deputes.get(dossier)\n",
    "    nom_dossier = nos_deputes.find_element_by_tag_name('h1').text\n",
    "    print(nom_dossier)\n",
    "    if nom_dossier == 'Questions au gouvernement':\n",
    "        continue\n",
    "    else:\n",
    "        pass\n",
    "    dict_dossier[nom_dossier] = {}\n",
    "    div_seances = nos_deputes.find_element_by_class_name('seances_dossier')\n",
    "    lst_seances = []\n",
    "    seances = div_seances.find_elements_by_tag_name('a')\n",
    "    for seance in seances:\n",
    "        href = seance.get_attribute('href')\n",
    "        if href is not None:\n",
    "            lst_seances.append(href)\n",
    "            \n",
    "    for seance in lst_seances:\n",
    "        nos_deputes.get(seance)\n",
    "        id_seance = nos_deputes.find_element_by_class_name('titre_int_et_seance').find_element_by_tag_name('h1').text\n",
    "        print(id_seance)\n",
    "            \n",
    "        try:\n",
    "            tags = nos_deputes.find_element_by_class_name('nuage_de_tags').find_elements_by_tag_name('li')\n",
    "            lst_tag = []\n",
    "            for tag in tags:\n",
    "                lst_tag.append(tag.text)\n",
    "        except:\n",
    "            lst_tag = []\n",
    "                \n",
    "        interventions = nos_deputes.find_elements_by_class_name('intervenant')\n",
    "            \n",
    "        lst_interventions = []\n",
    "        \n",
    "        num_intervention = 1\n",
    "        for intervention in interventions:\n",
    "            try:\n",
    "                intervenant = intervention.find_element_by_class_name('perso').text\n",
    "                intervenant_split = intervenant.split(',')\n",
    "                if len(intervenant_split) > 1:\n",
    "                    nom_intervenant = intervenant_split[0]\n",
    "                    fonction_intervenant = intervenant_split[1:][0][1:]\n",
    "                else:\n",
    "                    nom_intervenant = intervenant_split[0]\n",
    "                    fonction_intervenant = \"député\"\n",
    "            \n",
    "                texte_intervention = intervention.find_element_by_class_name('texte_intervention')\n",
    "                texte = texte_intervention.find_elements_by_tag_name('p')\n",
    "        \n",
    "                texte_brut = ''\n",
    "                for i in texte:\n",
    "                    texte_brut += ' ' + i.text\n",
    "        \n",
    "                lst_interventions.append({num_intervention : str(num_intervention),\n",
    "                                    'intervenant' : nom_intervenant,\n",
    "                                  'fonction_intervenant' : fonction_intervenant,\n",
    "                                  'texte' : texte_brut})\n",
    "                num_intervention += 1\n",
    "        \n",
    "            except:\n",
    "                    pass\n",
    "         \n",
    "\n",
    "        dict_dossier[nom_dossier][id_seance] = {'tags' : lst_tag,\n",
    "                                              'interventions' : lst_interventions}\n",
    " \n",
    "    count +=1\n",
    "    real_count += 1\n",
    "    \n",
    "    if count == 10:\n",
    "        nom_fichier = 'dossiers_' + str(real_count - 10) + '_' + str(real_count) + '.txt'\n",
    "        with open(nom_fichier, 'w') as outfile:\n",
    "            json.dump(dict_dossier, outfile)\n",
    "        \n",
    "        print('Fichier sauvegardé :' + nom_fichier)\n",
    "        dict_dossier = {}\n",
    "        count = 0\n",
    "        \n",
    "    else:\n",
    "        pass\n",
    "        print(real_count)"
   ]
  },
  {
   "cell_type": "code",
   "execution_count": null,
   "metadata": {},
   "outputs": [],
   "source": []
  }
 ],
 "metadata": {
  "celltoolbar": "Format de la Cellule Texte Brut",
  "kernelspec": {
   "display_name": "Python 3",
   "language": "python",
   "name": "python3"
  },
  "language_info": {
   "codemirror_mode": {
    "name": "ipython",
    "version": 3
   },
   "file_extension": ".py",
   "mimetype": "text/x-python",
   "name": "python",
   "nbconvert_exporter": "python",
   "pygments_lexer": "ipython3",
   "version": "3.7.4"
  }
 },
 "nbformat": 4,
 "nbformat_minor": 2
}
